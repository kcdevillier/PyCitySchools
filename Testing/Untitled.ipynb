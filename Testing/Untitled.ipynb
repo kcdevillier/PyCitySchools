{
 "cells": [
  {
   "cell_type": "code",
   "execution_count": 1,
   "metadata": {},
   "outputs": [
    {
     "ename": "SyntaxError",
     "evalue": "invalid syntax (<ipython-input-1-75bd9892cb4e>, line 3)",
     "output_type": "error",
     "traceback": [
      "\u001b[1;36m  File \u001b[1;32m\"<ipython-input-1-75bd9892cb4e>\"\u001b[1;36m, line \u001b[1;32m3\u001b[0m\n\u001b[1;33m    exec \"var%s=value\" % (i)\u001b[0m\n\u001b[1;37m                     ^\u001b[0m\n\u001b[1;31mSyntaxError\u001b[0m\u001b[1;31m:\u001b[0m invalid syntax\n"
     ]
    }
   ],
   "source": [
    "arr = ['bread', 'milk', 'cheese']\n",
    "for i, value in enumerate([\"milk\", \"bread\", \"cheese\"]):\n",
    "    exec \"var%s=value\" % (i)"
   ]
  },
  {
   "cell_type": "code",
   "execution_count": 2,
   "metadata": {},
   "outputs": [
    {
     "ename": "SyntaxError",
     "evalue": "invalid syntax (<ipython-input-2-bb1fb264f097>, line 11)",
     "output_type": "error",
     "traceback": [
      "\u001b[1;36m  File \u001b[1;32m\"<ipython-input-2-bb1fb264f097>\"\u001b[1;36m, line \u001b[1;32m11\u001b[0m\n\u001b[1;33m    print obj.get()\u001b[0m\n\u001b[1;37m            ^\u001b[0m\n\u001b[1;31mSyntaxError\u001b[0m\u001b[1;31m:\u001b[0m invalid syntax\n"
     ]
    }
   ],
   "source": [
    "class Vars(object):\n",
    " \n",
    "    def __init__(self, *args):\n",
    "        for i, value in enumerate(args):\n",
    "            setattr(self, \"var%s\" % (i), value)\n",
    " \n",
    "    def get(self):\n",
    "        return self.__dict__\n",
    " \n",
    "obj = Vars(\"milk\", \"bread\", \"cheese\")\n",
    "print obj.get()"
   ]
  },
  {
   "cell_type": "code",
   "execution_count": 8,
   "metadata": {},
   "outputs": [
    {
     "name": "stdout",
     "output_type": "stream",
     "text": [
      "milk\n",
      "0 bread\n",
      "1 milk\n",
      "2 cheese\n"
     ]
    }
   ],
   "source": [
    "a_list = ['bread', 'milk', 'cheese']\n",
    "print(a_list[1])  ## instead of var2\n",
    " \n",
    "for ctr in range(len(a_list)):\n",
    "    print(ctr, a_list[ctr]) "
   ]
  },
  {
   "cell_type": "code",
   "execution_count": null,
   "metadata": {},
   "outputs": [],
   "source": []
  }
 ],
 "metadata": {
  "kernelspec": {
   "display_name": "Python 3",
   "language": "python",
   "name": "python3"
  },
  "language_info": {
   "codemirror_mode": {
    "name": "ipython",
    "version": 3
   },
   "file_extension": ".py",
   "mimetype": "text/x-python",
   "name": "python",
   "nbconvert_exporter": "python",
   "pygments_lexer": "ipython3",
   "version": "3.6.9"
  }
 },
 "nbformat": 4,
 "nbformat_minor": 2
}
